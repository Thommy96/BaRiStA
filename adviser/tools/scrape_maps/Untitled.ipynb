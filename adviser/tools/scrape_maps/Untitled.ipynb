{
 "cells": [
  {
   "cell_type": "code",
   "execution_count": 1,
   "id": "db98b4e5",
   "metadata": {},
   "outputs": [],
   "source": [
    "import requests\n",
    "import folium\n",
    "import polyline\n",
    "from geopy.geocoders import Nominatim"
   ]
  },
  {
   "cell_type": "code",
   "execution_count": 8,
   "id": "40a34f23",
   "metadata": {},
   "outputs": [],
   "source": [
    "def get_coordinates(address):\n",
    "    locator = Nominatim(user_agent=\"myGeocoder\")\n",
    "    location = locator.geocode(address)\n",
    "    return [location.latitude, location.longitude]\n"
   ]
  },
  {
   "cell_type": "code",
   "execution_count": 9,
   "id": "6abf3d6f",
   "metadata": {},
   "outputs": [
    {
     "name": "stdout",
     "output_type": "stream",
     "text": [
      "[48.7470317, 9.1104274] [48.7684606, 9.1497569]\n"
     ]
    }
   ],
   "source": [
    "start = get_coordinates(\"Pfaffenwaldring, 70569 Stuttgart\")\n",
    "end = get_coordinates(\"Rotebühlstrasse, 70197 Stuttgart\")\n",
    "print(start, end)"
   ]
  },
  {
   "cell_type": "code",
   "execution_count": 14,
   "id": "33af745a",
   "metadata": {},
   "outputs": [],
   "source": [
    "\n",
    "def get_route(start_address, end_address):\n",
    "    locator = Nominatim(user_agent=\"myGeocoder\")\n",
    "    start_location = locator.geocode(start_address)\n",
    "    end_location = locator.geocode(end_address)\n",
    "    start_coordinate = [start_location.latitude, start_location.longitude]\n",
    "    end_coordinate = [end_location.latitude, end_location.longitude]\n",
    "    \n",
    "    loc = \"{},{};{},{}\".format(start_coordinate[0], start_coordinate[1], end_coordinate[0], end_coordinate[1])\n",
    "    url = \"http://router.project-osrm.org/route/v1/bike/\"\n",
    "    r = requests.get(url + loc) \n",
    "    if r.status_code!= 200:\n",
    "        return {}\n",
    "    res = r.json()   \n",
    "    #routes = polyline.decode(res['routes'][0]['geometry'])\n",
    "    start_point = [res['waypoints'][0]['location'][1], res['waypoints'][0]['location'][0]]\n",
    "    end_point = [res['waypoints'][1]['location'][1], res['waypoints'][1]['location'][0]]\n",
    "    distance = res['routes'][0]['distance']\n",
    "    duration = res['routes'][0]['duration']\n",
    "\n",
    "    out = {\n",
    "        'start_point': start_point,\n",
    "        'end_point': end_point,\n",
    "        'distance': distance,\n",
    "        'duration': \"%d:%02d\"%(duration//3600, duration//60)\n",
    "         }\n",
    "\n",
    "    return out['distance'], out['duration']\n",
    "\n"
   ]
  },
  {
   "cell_type": "code",
   "execution_count": 15,
   "id": "300f6e95",
   "metadata": {},
   "outputs": [
    {
     "data": {
      "text/plain": [
       "(3499.8, '0:09')"
      ]
     },
     "execution_count": 15,
     "metadata": {},
     "output_type": "execute_result"
    }
   ],
   "source": [
    "get_route(\"Pfaffenwaldring, 70569 Stuttgart\", \"Rotebühlstrasse, 70197 Stuttgart\")"
   ]
  },
  {
   "cell_type": "code",
   "execution_count": null,
   "id": "18220e00",
   "metadata": {},
   "outputs": [],
   "source": []
  }
 ],
 "metadata": {
  "kernelspec": {
   "display_name": "Python 3",
   "language": "python",
   "name": "python3"
  },
  "language_info": {
   "codemirror_mode": {
    "name": "ipython",
    "version": 3
   },
   "file_extension": ".py",
   "mimetype": "text/x-python",
   "name": "python",
   "nbconvert_exporter": "python",
   "pygments_lexer": "ipython3",
   "version": "3.7.10"
  }
 },
 "nbformat": 4,
 "nbformat_minor": 5
}
